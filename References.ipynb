{
 "cells": [
  {
   "cell_type": "markdown",
   "metadata": {},
   "source": [
    "# Internet Sources That I Referenced for This Project"
   ]
  },
  {
   "cell_type": "markdown",
   "metadata": {},
   "source": [
    "1. https://pandas.pydata.org/docs/reference/api/pandas.DataFrame.fillna.html"
   ]
  },
  {
   "cell_type": "markdown",
   "metadata": {},
   "source": [
    "2. https://datatofish.com/replace-nan-values-with-zeros/\n",
    "3. https://pandas.pydata.org/pandas-docs/stable/reference/api/pandas.DataFrame.groupby.html"
   ]
  },
  {
   "cell_type": "markdown",
   "metadata": {},
   "source": [
    "4. https://stackoverflow.com/questions/18172851/deleting-dataframe-row-in-pandas-based-on-column-value\n",
    "5. https://www.transtats.bts.gov/DL_SelectFields.aspx?gnoyr_VQ=FGJ&QO_fu146_anzr=b0-gvzr\n",
    "6. https://stackoverflow.com/questions/22028064/matplotlib-boxplot-without-outliers\n",
    "7. https://stackoverflow.com/questions/28468584/seaborn-factorplot-set-series-order-of-display-in-legend\n",
    "8. https://odsc.medium.com/3-easy-tricks-to-create-new-columns-in-python-pandas-bd1cac4fdff6\n",
    "9. https://www.shanelynn.ie/pandas-drop-delete-dataframe-rows-columns/\n",
    "10. https://www.dataquest.io/blog/tutorial-add-column-pandas-dataframe-based-on-if-else-condition/\n",
    "11. https://www.includehelp.com/python/bold-text-label-in-plot.aspx\n",
    "12. https://www.geeksforgeeks.org/how-to-set-axes-labels-limits-in-a-seaborn-plot/\n",
    "13. https://stackoverflow.com/questions/36220829/fine-control-over-the-font-size-in-seaborn-plots\n",
    "14. https://seaborn-image.sarthakjariwala.com/en/latest/api/_context.html#\n",
    "15. https://python-graph-gallery.com/91-customize-seaborn-heatmap/#:~:text=Annotate%20each%20cell%20with%20value,should%20be%20set%20to%20True%20.\n",
    "16. https://www.educba.com/seaborn-heatmap-size/\n",
    "17. https://stackoverflow.com/questions/40362362/changing-the-colors-of-each-hist-facet-on-facetgrid\n",
    "18. https://www.tutorialspoint.com/how-to-add-a-legend-on-seaborn-facetgrid-bar-plot-using-matplotlib\n",
    "19. https://www.geeksforgeeks.org/change-the-line-opacity-in-matplotlib/\n",
    "20. https://www.geeksforgeeks.org/how-to-change-seaborn-legends-font-size-location-and-color/\n",
    "\n"
   ]
  },
  {
   "cell_type": "code",
   "execution_count": null,
   "metadata": {},
   "outputs": [],
   "source": []
  }
 ],
 "metadata": {
  "kernelspec": {
   "display_name": "Python 3",
   "language": "python",
   "name": "python3"
  },
  "language_info": {
   "codemirror_mode": {
    "name": "ipython",
    "version": 3
   },
   "file_extension": ".py",
   "mimetype": "text/x-python",
   "name": "python",
   "nbconvert_exporter": "python",
   "pygments_lexer": "ipython3",
   "version": "3.8.3"
  }
 },
 "nbformat": 4,
 "nbformat_minor": 4
}
